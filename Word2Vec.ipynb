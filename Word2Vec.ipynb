{
 "cells": [
  {
   "cell_type": "markdown",
   "metadata": {
    "id": "azP1sjUiRw_4"
   },
   "source": [
    "##Word2Vec from Scratch"
   ]
  },
  {
   "cell_type": "code",
   "execution_count": null,
   "metadata": {
    "executionInfo": {
     "elapsed": 11,
     "status": "ok",
     "timestamp": 1755835562591,
     "user": {
      "displayName": "KHOMSUN SINGHIRUNNUSORN",
      "userId": "06486616628110580302"
     },
     "user_tz": 300
    },
    "id": "mX0jMK4gR4Ed"
   },
   "outputs": [],
   "source": [
    "import numpy as np\n",
    "import torch\n",
    "import torch.nn as nn\n",
    "import torch.optim as optim\n",
    "import matplotlib.pyplot as plt"
   ]
  },
  {
   "cell_type": "code",
   "execution_count": 1,
   "metadata": {
    "executionInfo": {
     "elapsed": 15,
     "status": "ok",
     "timestamp": 1755835562607,
     "user": {
      "displayName": "KHOMSUN SINGHIRUNNUSORN",
      "userId": "06486616628110580302"
     },
     "user_tz": 300
    },
    "id": "Khh9hPdeR8mQ"
   },
   "outputs": [],
   "source": [
    "corpus = [\"apple orange fruit\", \"banana apple fruit\", \"banana orange apple\",\n",
    "                 \"dog cat animal\", \"cat pig dog\", \"pig dog animal\",\"animal cat pig\", \"iphone apple tech\", \"windows tech mobile apple\", \"apple tech windows\", \"mobile iphone apple\"]"
   ]
  },
  {
   "cell_type": "code",
   "execution_count": 50,
   "metadata": {
    "executionInfo": {
     "elapsed": 4,
     "status": "ok",
     "timestamp": 1755835562609,
     "user": {
      "displayName": "KHOMSUN SINGHIRUNNUSORN",
      "userId": "06486616628110580302"
     },
     "user_tz": 300
    },
    "id": "eUw4dZl0Zg9X"
   },
   "outputs": [],
   "source": [
    "# corpus = [\"apple banana fruit\", \"banana apple fruit\", \"banana fruit apple\",\n",
    "#                  \"dog cat animal\", \"cat animal dog\", \"cat dog animal\"]"
   ]
  },
  {
   "cell_type": "code",
   "execution_count": 51,
   "metadata": {
    "colab": {
     "base_uri": "https://localhost:8080/"
    },
    "executionInfo": {
     "elapsed": 4,
     "status": "ok",
     "timestamp": 1755835562614,
     "user": {
      "displayName": "KHOMSUN SINGHIRUNNUSORN",
      "userId": "06486616628110580302"
     },
     "user_tz": 300
    },
    "id": "dDSRGDyGSxOo",
    "outputId": "753cfde9-dbbb-4807-fd24-6135305eaf3e"
   },
   "outputs": [
    {
     "data": {
      "text/plain": [
       "[['apple', 'orange', 'fruit'],\n",
       " ['banana', 'apple', 'fruit'],\n",
       " ['banana', 'orange', 'apple'],\n",
       " ['dog', 'cat', 'animal'],\n",
       " ['cat', 'pig', 'dog'],\n",
       " ['pig', 'dog', 'animal'],\n",
       " ['animal', 'cat', 'pig'],\n",
       " ['iphone', 'apple', 'tech'],\n",
       " ['windows', 'tech', 'mobile', 'apple'],\n",
       " ['apple', 'tech', 'windows'],\n",
       " ['mobile', 'iphone', 'apple']]"
      ]
     },
     "execution_count": 51,
     "metadata": {},
     "output_type": "execute_result"
    }
   ],
   "source": [
    "#split by spaces\n",
    "corpus = [word.split(\" \") for word in corpus]\n",
    "corpus"
   ]
  },
  {
   "cell_type": "code",
   "execution_count": 52,
   "metadata": {
    "colab": {
     "base_uri": "https://localhost:8080/"
    },
    "executionInfo": {
     "elapsed": 2,
     "status": "ok",
     "timestamp": 1755835562614,
     "user": {
      "displayName": "KHOMSUN SINGHIRUNNUSORN",
      "userId": "06486616628110580302"
     },
     "user_tz": 300
    },
    "id": "mZCh0_XzS8GI",
    "outputId": "3abf9dd4-10fe-4224-c9c6-2b2cb51dd8fe"
   },
   "outputs": [
    {
     "data": {
      "text/plain": [
       "['cat',\n",
       " 'tech',\n",
       " 'banana',\n",
       " 'iphone',\n",
       " 'fruit',\n",
       " 'dog',\n",
       " 'pig',\n",
       " 'mobile',\n",
       " 'orange',\n",
       " 'windows',\n",
       " 'animal',\n",
       " 'apple']"
      ]
     },
     "execution_count": 52,
     "metadata": {},
     "output_type": "execute_result"
    }
   ],
   "source": [
    "#get word sequences and unique words\n",
    "flatten = lambda l: [item for sublist in l for item in sublist]\n",
    "vocab = list(set(flatten(corpus)))\n",
    "vocab"
   ]
  },
  {
   "cell_type": "code",
   "execution_count": 53,
   "metadata": {
    "colab": {
     "base_uri": "https://localhost:8080/"
    },
    "executionInfo": {
     "elapsed": 54,
     "status": "ok",
     "timestamp": 1755835562669,
     "user": {
      "displayName": "KHOMSUN SINGHIRUNNUSORN",
      "userId": "06486616628110580302"
     },
     "user_tz": 300
    },
    "id": "VVcDMhZfTQDQ",
    "outputId": "419d26d3-e451-4e40-fd67-34956b06730e"
   },
   "outputs": [
    {
     "name": "stdout",
     "output_type": "stream",
     "text": [
      "{'cat': 0, 'tech': 1, 'banana': 2, 'iphone': 3, 'fruit': 4, 'dog': 5, 'pig': 6, 'mobile': 7, 'orange': 8, 'windows': 9, 'animal': 10, 'apple': 11, '<UNK>': 12} 13\n"
     ]
    }
   ],
   "source": [
    "#word to index\n",
    "word2index = {w: i for i, w in enumerate(vocab)}\n",
    "word2index[\"<UNK>\"] = len(word2index)\n",
    "print(word2index,len(word2index))"
   ]
  },
  {
   "cell_type": "code",
   "execution_count": 54,
   "metadata": {
    "colab": {
     "base_uri": "https://localhost:8080/"
    },
    "executionInfo": {
     "elapsed": 18,
     "status": "ok",
     "timestamp": 1755835562675,
     "user": {
      "displayName": "KHOMSUN SINGHIRUNNUSORN",
      "userId": "06486616628110580302"
     },
     "user_tz": 300
    },
    "id": "hmDAuYgDTlqF",
    "outputId": "4b44d3ff-d9a0-4bc9-c5a6-cbbc52ec9831"
   },
   "outputs": [
    {
     "data": {
      "text/plain": [
       "{0: 'cat',\n",
       " 1: 'tech',\n",
       " 2: 'banana',\n",
       " 3: 'iphone',\n",
       " 4: 'fruit',\n",
       " 5: 'dog',\n",
       " 6: 'pig',\n",
       " 7: 'mobile',\n",
       " 8: 'orange',\n",
       " 9: 'windows',\n",
       " 10: 'animal',\n",
       " 11: 'apple',\n",
       " 12: '<UNK>'}"
      ]
     },
     "execution_count": 54,
     "metadata": {},
     "output_type": "execute_result"
    }
   ],
   "source": [
    "#index to word\n",
    "index2word = {v:k for k, v in word2index.items()}\n",
    "index2word"
   ]
  },
  {
   "cell_type": "code",
   "execution_count": 55,
   "metadata": {
    "colab": {
     "base_uri": "https://localhost:8080/"
    },
    "executionInfo": {
     "elapsed": 9,
     "status": "ok",
     "timestamp": 1755835562676,
     "user": {
      "displayName": "KHOMSUN SINGHIRUNNUSORN",
      "userId": "06486616628110580302"
     },
     "user_tz": 300
    },
    "id": "v3HFD81aT0JZ",
    "outputId": "80652ac2-e014-4c76-d4c8-993230338453"
   },
   "outputs": [
    {
     "data": {
      "text/plain": [
       "[['apple', 'orange', 'fruit'],\n",
       " ['banana', 'apple', 'fruit'],\n",
       " ['banana', 'orange', 'apple'],\n",
       " ['dog', 'cat', 'animal'],\n",
       " ['cat', 'pig', 'dog'],\n",
       " ['pig', 'dog', 'animal'],\n",
       " ['animal', 'cat', 'pig'],\n",
       " ['iphone', 'apple', 'tech'],\n",
       " ['windows', 'tech', 'mobile', 'apple'],\n",
       " ['apple', 'tech', 'windows'],\n",
       " ['mobile', 'iphone', 'apple']]"
      ]
     },
     "execution_count": 55,
     "metadata": {},
     "output_type": "execute_result"
    }
   ],
   "source": [
    "corpus"
   ]
  },
  {
   "cell_type": "markdown",
   "metadata": {
    "id": "XqDm87qKUM-2"
   },
   "source": [
    "##Preparing Training Data\n"
   ]
  },
  {
   "cell_type": "code",
   "execution_count": 56,
   "metadata": {
    "executionInfo": {
     "elapsed": 8,
     "status": "ok",
     "timestamp": 1755835562677,
     "user": {
      "displayName": "KHOMSUN SINGHIRUNNUSORN",
      "userId": "06486616628110580302"
     },
     "user_tz": 300
    },
    "id": "urniAq5teQVG"
   },
   "outputs": [],
   "source": [
    "def random_batch(batch_size, word_sequence):\n",
    "\n",
    "    # Make skip gram of one size window\n",
    "    skip_grams = []\n",
    "    # loop each word sequence\n",
    "    # we starts from 1 because 0 has no context\n",
    "    # we stop at second last for the same reason\n",
    "    for sent in corpus:\n",
    "        for i in range(1, len(sent) - 1):\n",
    "            target = word2index[sent[i]]\n",
    "            context = [word2index[sent[i - 1]], word2index[sent[i + 1]]]\n",
    "            for w in context:\n",
    "                skip_grams.append([target, w])\n",
    "    random_inputs = []\n",
    "    random_labels = []\n",
    "    random_index = np.random.choice(range(len(skip_grams)), batch_size, replace=False) #randomly pick without replacement\n",
    "\n",
    "    for i in random_index:\n",
    "        random_inputs.append([skip_grams[i][0]])  # target, e.g., 2\n",
    "        random_labels.append([skip_grams[i][1]])  # context word, e.g., 3\n",
    "\n",
    "    return np.array(random_inputs), np.array(random_labels)"
   ]
  },
  {
   "cell_type": "code",
   "execution_count": 57,
   "metadata": {
    "colab": {
     "base_uri": "https://localhost:8080/"
    },
    "executionInfo": {
     "elapsed": 3,
     "status": "ok",
     "timestamp": 1755835562679,
     "user": {
      "displayName": "KHOMSUN SINGHIRUNNUSORN",
      "userId": "06486616628110580302"
     },
     "user_tz": 300
    },
    "id": "botljw3pUH7R",
    "outputId": "88356ee7-32ad-4470-b40d-2d64dab7c6e5"
   },
   "outputs": [
    {
     "name": "stdout",
     "output_type": "stream",
     "text": [
      "Input:  [[0]\n",
      " [1]]\n",
      "Target:  [[5]\n",
      " [7]]\n"
     ]
    }
   ],
   "source": [
    "batch_size = 2 # mini-batch size\n",
    "input_batch, target_batch = random_batch(batch_size, corpus)\n",
    "\n",
    "print(\"Input: \", input_batch)\n",
    "print(\"Target: \", target_batch)"
   ]
  },
  {
   "cell_type": "markdown",
   "metadata": {
    "id": "4CwKXFITeQVG"
   },
   "source": [
    "## Model\n",
    "\n",
    "$$J(\\theta) = -\\frac{1}{T}\\sum_{t=1}^{T}\\sum_{\\substack{-m \\leq j \\leq m \\\\ j \\neq 0}}\\log P(w_{t+j} | w_t; \\theta)$$\n",
    "\n",
    "where $P(w_{t+j} | w_t; \\theta) = $\n",
    "\n",
    "$$P(o|c)=\\frac{\\exp(\\mathbf{u_o^{\\top}v_c})}{\\sum_{w=1}^V\\exp(\\mathbf{u_w^{\\top}v_c})}$$\n",
    "\n",
    "where $o$ is the outside words and $c$ is the center word"
   ]
  },
  {
   "cell_type": "code",
   "execution_count": 58,
   "metadata": {
    "executionInfo": {
     "elapsed": 2,
     "status": "ok",
     "timestamp": 1755835562681,
     "user": {
      "displayName": "KHOMSUN SINGHIRUNNUSORN",
      "userId": "06486616628110580302"
     },
     "user_tz": 300
    },
    "id": "AIJeo8QteQVG"
   },
   "outputs": [],
   "source": [
    "class Skipgram(nn.Module):\n",
    "\n",
    "    def __init__(self, vocab_size, emb_size):\n",
    "        super(Skipgram,self).__init__()\n",
    "        self.embedding_v = nn.Embedding(vocab_size, emb_size)\n",
    "        self.embedding_u = nn.Embedding(vocab_size, emb_size)\n",
    "\n",
    "    def forward(self, center_words, target_words, all_vocabs):\n",
    "        center_embeds = self.embedding_v(center_words) # [batch_size, 1, emb_size]\n",
    "        target_embeds = self.embedding_u(target_words) # [batch_size, 1, emb_size]\n",
    "        all_embeds    = self.embedding_u(all_vocabs) #   [batch_size, voc_size, emb_size]\n",
    "\n",
    "        scores      = target_embeds.bmm(center_embeds.transpose(1, 2)).squeeze(2)\n",
    "        #[batch_size, 1, emb_size] @ [batch_size, emb_size, 1] = [batch_size, 1, 1] = [batch_size, 1]\n",
    "\n",
    "        norm_scores = all_embeds.bmm(center_embeds.transpose(1, 2)).squeeze(2)\n",
    "        #[batch_size, voc_size, emb_size] @ [batch_size, emb_size, 1] = [batch_size, voc_size, 1] = [batch_size, voc_size]\n",
    "\n",
    "        nll = -torch.mean(torch.log(torch.exp(scores)/torch.sum(torch.exp(norm_scores), 1).unsqueeze(1))) # log-softmax\n",
    "        # scalar (loss must be scalar)\n",
    "\n",
    "        return nll # negative log likelihood"
   ]
  },
  {
   "cell_type": "code",
   "execution_count": 59,
   "metadata": {
    "executionInfo": {
     "elapsed": 0,
     "status": "ok",
     "timestamp": 1755835562692,
     "user": {
      "displayName": "KHOMSUN SINGHIRUNNUSORN",
      "userId": "06486616628110580302"
     },
     "user_tz": 300
    },
    "id": "J_9_sH0feQVG"
   },
   "outputs": [],
   "source": [
    "##Create Skipgram model\n",
    "voc_size= len(vocab)\n",
    "batch_size     = 2 # mini-batch size\n",
    "embedding_size = 2 #so we can later plot\n",
    "model          = Skipgram(voc_size, embedding_size)\n",
    "\n",
    "optimizer = optim.Adam(model.parameters(), lr=0.001)"
   ]
  },
  {
   "cell_type": "code",
   "execution_count": 60,
   "metadata": {
    "colab": {
     "base_uri": "https://localhost:8080/"
    },
    "executionInfo": {
     "elapsed": 1,
     "status": "ok",
     "timestamp": 1755835562694,
     "user": {
      "displayName": "KHOMSUN SINGHIRUNNUSORN",
      "userId": "06486616628110580302"
     },
     "user_tz": 300
    },
    "id": "qADZjjuZeQVG",
    "outputId": "9bf6364c-a321-4dd5-e441-8cf1cdd60e76"
   },
   "outputs": [
    {
     "data": {
      "text/plain": [
       "torch.Size([2, 12])"
      ]
     },
     "execution_count": 60,
     "metadata": {},
     "output_type": "execute_result"
    }
   ],
   "source": [
    "def prepare_sequence(seq, word2index):\n",
    "    idxs = list(map(lambda w: word2index[w] if word2index.get(w) is not None else word2index[\"<UNK>\"], seq))\n",
    "    return torch.LongTensor(idxs)\n",
    "\n",
    "#use for the normalized term in the probability calculation\n",
    "all_vocabs = prepare_sequence(list(vocab), word2index).expand(batch_size, len(vocab))  # [batch_size, voc_size]\n",
    "all_vocabs.shape"
   ]
  },
  {
   "cell_type": "code",
   "execution_count": 61,
   "metadata": {
    "executionInfo": {
     "elapsed": 1,
     "status": "ok",
     "timestamp": 1755835562695,
     "user": {
      "displayName": "KHOMSUN SINGHIRUNNUSORN",
      "userId": "06486616628110580302"
     },
     "user_tz": 300
    },
    "id": "7YlgIzYOeQVG"
   },
   "outputs": [],
   "source": [
    "def epoch_time(start_time, end_time):\n",
    "    elapsed_time = end_time - start_time\n",
    "    elapsed_mins = int(elapsed_time / 60)\n",
    "    elapsed_secs = int(elapsed_time - (elapsed_mins * 60))\n",
    "    return elapsed_mins, elapsed_secs"
   ]
  },
  {
   "cell_type": "code",
   "execution_count": 67,
   "metadata": {
    "colab": {
     "base_uri": "https://localhost:8080/"
    },
    "executionInfo": {
     "elapsed": 7369,
     "status": "ok",
     "timestamp": 1755835592264,
     "user": {
      "displayName": "KHOMSUN SINGHIRUNNUSORN",
      "userId": "06486616628110580302"
     },
     "user_tz": 300
    },
    "id": "0Ys1uFrAeQVH",
    "outputId": "b0c4400e-5a83-43d8-fa0f-da1e9374a855"
   },
   "outputs": [
    {
     "name": "stdout",
     "output_type": "stream",
     "text": [
      "Epoch: 1000 | cost: 1.605965 | time: 0m 0s\n",
      "Epoch: 2000 | cost: 1.764609 | time: 0m 0s\n",
      "Epoch: 3000 | cost: 1.440331 | time: 0m 0s\n",
      "Epoch: 4000 | cost: 1.436439 | time: 0m 0s\n",
      "Epoch: 5000 | cost: 2.462426 | time: 0m 0s\n",
      "Epoch: 6000 | cost: 1.308811 | time: 0m 0s\n",
      "Epoch: 7000 | cost: 1.482688 | time: 0m 0s\n"
     ]
    }
   ],
   "source": [
    "import time\n",
    "\n",
    "# Training\n",
    "num_epochs = 7000\n",
    "for epoch in range(num_epochs):\n",
    "\n",
    "    start = time.time()\n",
    "\n",
    "    input_batch, target_batch = random_batch(batch_size, corpus)\n",
    "    input_batch  = torch.LongTensor(input_batch)  #[batch_size, 1]\n",
    "    target_batch = torch.LongTensor(target_batch) #[batch_size, 1]\n",
    "\n",
    "    optimizer.zero_grad()\n",
    "    loss = model(input_batch, target_batch, all_vocabs)\n",
    "\n",
    "    loss.backward()\n",
    "    optimizer.step()\n",
    "\n",
    "    end = time.time()\n",
    "\n",
    "    epoch_mins, epoch_secs = epoch_time(start, end)\n",
    "\n",
    "    if (epoch + 1) % 1000 == 0:\n",
    "        print(f\"Epoch: {epoch + 1} | cost: {loss:.6f} | time: {epoch_mins}m {epoch_secs}s\")\n"
   ]
  },
  {
   "cell_type": "code",
   "execution_count": 68,
   "metadata": {
    "executionInfo": {
     "elapsed": 8,
     "status": "ok",
     "timestamp": 1755835595515,
     "user": {
      "displayName": "KHOMSUN SINGHIRUNNUSORN",
      "userId": "06486616628110580302"
     },
     "user_tz": 300
    },
    "id": "Id-QjNgmeQVH"
   },
   "outputs": [],
   "source": [
    "#let's write a function to get embedding given a word\n",
    "def get_embed(word):\n",
    "    id_tensor = torch.LongTensor([word2index[word]])\n",
    "    v_embed = model.embedding_v(id_tensor)\n",
    "    u_embed = model.embedding_u(id_tensor)\n",
    "    word_embed = (v_embed + u_embed) / 2\n",
    "    x, y = word_embed[0][0].item(), word_embed[0][1].item()\n",
    "\n",
    "    return x, y"
   ]
  },
  {
   "cell_type": "code",
   "execution_count": 69,
   "metadata": {
    "colab": {
     "base_uri": "https://localhost:8080/",
     "height": 522
    },
    "executionInfo": {
     "elapsed": 441,
     "status": "ok",
     "timestamp": 1755835597554,
     "user": {
      "displayName": "KHOMSUN SINGHIRUNNUSORN",
      "userId": "06486616628110580302"
     },
     "user_tz": 300
    },
    "id": "Lpo0vkT6eQVH",
    "outputId": "7c5abbf5-a946-4858-e26e-3ca0b04f8b46"
   },
   "outputs": [
    {
     "data": {
      "image/png": "[encoded data removed]",
      "text/plain": [
       "<Figure size 600x600 with 1 Axes>"
      ]
     },
     "metadata": {},
     "output_type": "display_data"
    }
   ],
   "source": [
    "plt.figure(figsize=(6,6))\n",
    "for i, word in enumerate(vocab[:20]): #loop each unique vocab\n",
    "    x, y = get_embed(word)\n",
    "    plt.scatter(x, y)\n",
    "    plt.annotate(word, xy=(x, y), xytext=(5, 2), textcoords='offset points')\n",
    "plt.show()"
   ]
  },
  {
   "cell_type": "code",
   "execution_count": 65,
   "metadata": {
    "colab": {
     "base_uri": "https://localhost:8080/"
    },
    "executionInfo": {
     "elapsed": 5,
     "status": "ok",
     "timestamp": 1755835568472,
     "user": {
      "displayName": "KHOMSUN SINGHIRUNNUSORN",
      "userId": "06486616628110580302"
     },
     "user_tz": 300
    },
    "id": "3KLv29knbeL5",
    "outputId": "f883fbb6-b2dc-4272-902a-86d9efeafe6a"
   },
   "outputs": [
    {
     "name": "stdout",
     "output_type": "stream",
     "text": [
      "(0.7780648469924927, 0.823800802230835)\n",
      "(-0.3262425363063812, -0.06221267580986023)\n",
      "(-0.9066522121429443, 0.33789142966270447)\n"
     ]
    }
   ],
   "source": [
    "iphone = get_embed(\"iphone\")\n",
    "banana = get_embed(\"banana\")\n",
    "apple = get_embed(\"apple\")\n",
    "print(apple)\n",
    "print(banana)\n",
    "print(iphone)"
   ]
  },
  {
   "cell_type": "code",
   "execution_count": 66,
   "metadata": {
    "colab": {
     "base_uri": "https://localhost:8080/"
    },
    "executionInfo": {
     "elapsed": 4,
     "status": "ok",
     "timestamp": 1755835568477,
     "user": {
      "displayName": "KHOMSUN SINGHIRUNNUSORN",
      "userId": "06486616628110580302"
     },
     "user_tz": 300
    },
    "id": "M8lgLg9OeQVI",
    "outputId": "71ab4cc7-a116-40ac-d8b1-9650f382ed73"
   },
   "outputs": [
    {
     "name": "stdout",
     "output_type": "stream",
     "text": [
      "iphone vs. apple:  -0.3895277762854955\n",
      "banana vs. apple:  -0.8106646900503277\n",
      "iphone vs. banana:  0.85504037116298\n",
      "apple vs. apple:  1.0\n"
     ]
    }
   ],
   "source": [
    "#numpy version\n",
    "from numpy import dot\n",
    "from numpy.linalg import norm\n",
    "\n",
    "def cos_sim(a, b):\n",
    "    cos_sim = dot(a, b)/(norm(a)*norm(b))\n",
    "    return cos_sim\n",
    "\n",
    "print(f\"iphone vs. apple: \",        cos_sim(iphone, apple))\n",
    "print(f\"banana vs. apple: \",       cos_sim(apple, banana))\n",
    "print(f\"iphone vs. banana: \",          cos_sim(iphone, banana))\n",
    "print(f\"apple vs. apple: \",       cos_sim(apple, apple))"
   ]
  }
 ],
 "metadata": {
  "accelerator": "GPU",
  "colab": {
   "authorship_tag": "ABX9TyNjw15ssk3SboH2wQbaFk9t",
   "gpuType": "T4",
   "provenance": []
  },
  "kernelspec": {
   "display_name": "Python 3",
   "name": "python3"
  },
  "language_info": {
   "codemirror_mode": {
    "name": "ipython",
    "version": 3
   },
   "file_extension": ".py",
   "mimetype": "text/x-python",
   "name": "python",
   "nbconvert_exporter": "python",
   "pygments_lexer": "ipython3",
   "version": "3.12.1"
  }
 },
 "nbformat": 4,
 "nbformat_minor": 0
}
